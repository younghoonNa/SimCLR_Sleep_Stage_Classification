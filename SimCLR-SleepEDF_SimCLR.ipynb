{
 "cells": [
  {
   "cell_type": "code",
   "execution_count": 1,
   "id": "2a02f889",
   "metadata": {},
   "outputs": [],
   "source": [
    "import os\n",
    "os.environ[\"CUDA_VISIBLE_DEVICES\"] = \"3,4\""
   ]
  },
  {
   "cell_type": "code",
   "execution_count": 2,
   "id": "dcc111f9",
   "metadata": {},
   "outputs": [],
   "source": [
    "import torch\n",
    "import torch.nn as nn\n",
    "import torch.nn.functional as F\n",
    "import torch.optim as optim\n",
    "from torchvision import datasets, transforms, models\n",
    "from torch.utils.data import DataLoader, Dataset\n",
    "import numpy as np\n",
    "from sklearn.manifold import TSNE\n",
    "from sklearn.decomposition import PCA\n",
    "import matplotlib.pyplot as plt\n",
    "from tqdm import tqdm \n",
    "from PIL import Image"
   ]
  },
  {
   "cell_type": "code",
   "execution_count": 3,
   "id": "9a47ed8a",
   "metadata": {},
   "outputs": [],
   "source": [
    "device = \"cuda\"\n",
    "batch_size = 256\n",
    "\n",
    "DATA_PATH = \"/home/yhna/SleepEDF_IMG/\"\n",
    "FILE_NAME = \"sc_exclude_temp&event_label_O_30mWake_rmMove&?label\"\n",
    "DATASET = \"Sleep-EDF-2018\"\n",
    "\n",
    "img_height = 224\n",
    "img_width = 224\n",
    "\n",
    "LABEL_NAME = ['Wake', 'N1', 'N2', 'N3', 'REM']\n",
    "\n",
    "lr_start = 0.0001\n",
    "lr_min = 0.00005\n",
    "epochs = 100\n",
    "num_worker = 8\n",
    "\n",
    "class SimCLRTransform:\n",
    "    def __init__(self, size=224):\n",
    "        self.transform = transforms.Compose([\n",
    "            transforms.RandomResizedCrop(size=size),\n",
    "            transforms.RandomHorizontalFlip(),\n",
    "            transforms.RandomApply([\n",
    "                transforms.ColorJitter(0.4, 0.4, 0.4, 0.1)  # 밝기, 대비, 채도, 색조 변화\n",
    "            ], p=0.8),\n",
    "            transforms.Lambda(lambda image: image.convert('RGB')),  # RGBA를 RGB로 변환\n",
    "            transforms.ToTensor(),\n",
    "        ])\n",
    "    \n",
    "    def __call__(self, x):\n",
    "        return self.transform(x), self.transform(x)"
   ]
  },
  {
   "cell_type": "code",
   "execution_count": 4,
   "id": "00d31c90",
   "metadata": {},
   "outputs": [
    {
     "name": "stderr",
     "output_type": "stream",
     "text": [
      "100%|██████████| 122/122 [00:00<00:00, 493.29it/s]\n",
      "100%|██████████| 14/14 [00:00<00:00, 635.09it/s]\n",
      "100%|██████████| 16/16 [00:00<00:00, 655.91it/s]\n"
     ]
    }
   ],
   "source": [
    "class EEGDataLoader(Dataset):\n",
    "\n",
    "    def __init__(self, transforms, fold, dset_name, dataset_path, file_name, set='train'):\n",
    "\n",
    "        self.set = set\n",
    "        self.fold = fold\n",
    "\n",
    "        self.Hz = 100        \n",
    "        \n",
    "        self.dset_name = dset_name\n",
    "        self.dataset_path = dataset_path\n",
    "        self.file_name = file_name\n",
    "        \n",
    "        self.file_path = self.split_dataset()\n",
    "        self.transforms = transforms\n",
    "\n",
    "    def __len__(self):\n",
    "        return len(self.file_path)\n",
    "\n",
    "    def __getitem__(self, idx):\n",
    "        \n",
    "        \n",
    "        img_path = self.file_path[idx]\n",
    "        \n",
    "        img = Image.open(img_path)\n",
    "        label_str = img_path[-5]\n",
    "        \n",
    "        if label_str == \"W\": label = 0\n",
    "        elif label_str == \"1\": label = 1\n",
    "        elif label_str == \"2\": label = 2\n",
    "        elif label_str == \"3\": label = 3\n",
    "        elif label_str == \"4\": label = 3\n",
    "        elif label_str == \"R\": label = 4\n",
    "            \n",
    "        if self.transforms is not None:\n",
    "            img = self.transforms(img)\n",
    "                    \n",
    "        return img, label\n",
    "\n",
    "    \n",
    "    def split_dataset(self):\n",
    "        \n",
    "        file_idx = 0\n",
    "        inputs, labels, spc, epochs = [], [], [], []\n",
    "#         data_root = os.path.join(self.dataset_path)\n",
    "        data_fname_list = os.listdir(os.path.join(self.dataset_path, self.file_name))\n",
    "        data_fname_dict = {'train': [], 'test': [], 'val': []}\n",
    "        split_idx_list = np.load(os.path.join(self.dataset_path, 'split_idx', 'idx_{}.npy'.format(self.dset_name)), allow_pickle=True)\n",
    "    \n",
    "        if self.dset_name == 'Sleep-EDF-2013':\n",
    "            for i in range(len(data_fname_list)):\n",
    "                subject_idx = int(data_fname_list[i][3:5])\n",
    "                if subject_idx == self.fold - 1:\n",
    "                    data_fname_dict['test'].append(data_fname_list[i])\n",
    "                elif subject_idx in split_idx_list[self.fold - 1]:\n",
    "                    data_fname_dict['val'].append(data_fname_list[i])\n",
    "                else:\n",
    "                    data_fname_dict['train'].append(data_fname_list[i])    \n",
    "\n",
    "        elif self.dset_name == 'Sleep-EDF-2018':\n",
    "            for i in range(len(data_fname_list)):\n",
    "                subject_idx = int(data_fname_list[i][3:5])\n",
    "                if subject_idx in split_idx_list[self.fold - 1][self.set]:\n",
    "                    data_fname_dict[self.set].append(data_fname_list[i])\n",
    "\n",
    "        else:\n",
    "            raise NameError(\"dataset '{}' cannot be found.\".format(self.dataset))\n",
    "            \n",
    "        cnt,file_idx = 0, 0\n",
    "        file_path = []\n",
    "        for data_fname in tqdm(data_fname_dict[self.set]):\n",
    "            base_path = os.path.join(self.dataset_path, self.file_name, data_fname)\n",
    "            img_files = os.listdir(base_path)\n",
    "            for img in img_files:\n",
    "                file_path.append(os.path.join(base_path, img))\n",
    "            \n",
    "        return file_path\n",
    "    \n",
    "fold = 1\n",
    "train_dataloader_args = {'batch_size': batch_size, 'shuffle': True, 'num_workers': num_worker}\n",
    "valid_dataloader_args = {'batch_size': batch_size, 'shuffle': False, 'num_workers': num_worker}\n",
    "train_dataset = EEGDataLoader(SimCLRTransform(), fold, DATASET, DATA_PATH, FILE_NAME, set='train')\n",
    "val_dataset = EEGDataLoader(SimCLRTransform(), fold, DATASET, DATA_PATH, FILE_NAME, set='val')\n",
    "test_dataset = EEGDataLoader(SimCLRTransform(), fold, DATASET, DATA_PATH, FILE_NAME, set='test')\n",
    "\n",
    "train_loader = DataLoader(dataset=train_dataset, **train_dataloader_args)\n",
    "val_loader = DataLoader(dataset=val_dataset, **valid_dataloader_args)\n",
    "test_loader = DataLoader(dataset=test_dataset, **valid_dataloader_args)"
   ]
  },
  {
   "cell_type": "code",
   "execution_count": 5,
   "id": "2e29aea3",
   "metadata": {},
   "outputs": [],
   "source": [
    "class SimCLR_Loss(nn.Module):\n",
    "    def __init__(self, temperature):\n",
    "        super().__init__()\n",
    "        self.temperature = temperature\n",
    "        self.criterion = nn.CrossEntropyLoss(reduction=\"sum\")\n",
    "        self.similarity_f = nn.CosineSimilarity(dim=2)\n",
    "\n",
    "    def forward(self, z_i, z_j):\n",
    "        batch_size = z_i.size(0)\n",
    "        N = 2 * batch_size\n",
    "\n",
    "        z = torch.cat((z_i, z_j), dim=0)\n",
    "\n",
    "        sim = self.similarity_f(z.unsqueeze(1), z.unsqueeze(0)) / self.temperature\n",
    "\n",
    "        # 마스크를 동적으로 생성\n",
    "        mask = torch.ones((N, N), dtype=bool).fill_diagonal_(0)\n",
    "        for i in range(batch_size):\n",
    "            mask[i, batch_size + i] = 0\n",
    "            mask[batch_size + i, i] = 0\n",
    "\n",
    "        sim_i_j = torch.diag(sim, batch_size)\n",
    "        sim_j_i = torch.diag(sim, -batch_size)\n",
    "        \n",
    "        positive_samples = torch.cat((sim_i_j, sim_j_i), dim=0).reshape(N, 1)\n",
    "        negative_samples = sim[mask].reshape(N, -1)\n",
    "        \n",
    "        labels = torch.zeros(N).to(positive_samples.device).long()  # 더 간단한 방법으로 라벨 생성\n",
    "        \n",
    "        logits = torch.cat((positive_samples, negative_samples), dim=1)\n",
    "        loss = self.criterion(logits, labels)\n",
    "        loss /= N\n",
    "        \n",
    "        return loss\n",
    "\n",
    "\n",
    "# 예를 들어, 배치 크기가 64고 온도 파라미터가 0.5 인 경우\n",
    "loss_fn = SimCLR_Loss(temperature=0.07)"
   ]
  },
  {
   "cell_type": "code",
   "execution_count": 6,
   "id": "b0ea15f9",
   "metadata": {
    "scrolled": true
   },
   "outputs": [
    {
     "name": "stdout",
     "output_type": "stream",
     "text": [
      "================ Training START ================\n"
     ]
    },
    {
     "name": "stderr",
     "output_type": "stream",
     "text": [
      "100%|██████████| 642/642 [09:50<00:00,  1.09it/s]\n"
     ]
    },
    {
     "name": "stdout",
     "output_type": "stream",
     "text": [
      "Epoch 1, Train Loss: 3.8597359757557093, Valid Loss: 4.596702494863736\n",
      "Early Stopping Count: 0\n"
     ]
    },
    {
     "name": "stderr",
     "output_type": "stream",
     "text": [
      "100%|██████████| 642/642 [09:32<00:00,  1.12it/s]\n"
     ]
    },
    {
     "name": "stdout",
     "output_type": "stream",
     "text": [
      "Epoch 2, Train Loss: 2.532899690008609, Valid Loss: 4.17843631566581\n",
      "Early Stopping Count: 0\n"
     ]
    },
    {
     "name": "stderr",
     "output_type": "stream",
     "text": [
      "100%|██████████| 642/642 [09:29<00:00,  1.13it/s]\n"
     ]
    },
    {
     "name": "stdout",
     "output_type": "stream",
     "text": [
      "Epoch 3, Train Loss: 2.0869513323002513, Valid Loss: 4.062232502436234\n",
      "Early Stopping Count: 0\n"
     ]
    },
    {
     "name": "stderr",
     "output_type": "stream",
     "text": [
      "100%|██████████| 642/642 [09:33<00:00,  1.12it/s]\n"
     ]
    },
    {
     "name": "stdout",
     "output_type": "stream",
     "text": [
      "Epoch 4, Train Loss: 1.8539019761798539, Valid Loss: 3.9099174354035977\n",
      "Early Stopping Count: 0\n"
     ]
    },
    {
     "name": "stderr",
     "output_type": "stream",
     "text": [
      "100%|██████████| 642/642 [09:30<00:00,  1.13it/s]\n"
     ]
    },
    {
     "name": "stdout",
     "output_type": "stream",
     "text": [
      "Epoch 5, Train Loss: 1.7083018858484762, Valid Loss: 3.7926886303950162\n",
      "Early Stopping Count: 0\n"
     ]
    },
    {
     "name": "stderr",
     "output_type": "stream",
     "text": [
      "100%|██████████| 642/642 [09:30<00:00,  1.13it/s]\n"
     ]
    },
    {
     "name": "stdout",
     "output_type": "stream",
     "text": [
      "Epoch 6, Train Loss: 1.6032417021065115, Valid Loss: 3.9134667121757896\n"
     ]
    },
    {
     "name": "stderr",
     "output_type": "stream",
     "text": [
      "100%|██████████| 642/642 [09:28<00:00,  1.13it/s]\n"
     ]
    },
    {
     "name": "stdout",
     "output_type": "stream",
     "text": [
      "Epoch 7, Train Loss: 1.5417392684663196, Valid Loss: 3.921397534467406\n"
     ]
    },
    {
     "name": "stderr",
     "output_type": "stream",
     "text": [
      "100%|██████████| 642/642 [09:26<00:00,  1.13it/s]\n"
     ]
    },
    {
     "name": "stdout",
     "output_type": "stream",
     "text": [
      "Epoch 8, Train Loss: 1.4886449842809517, Valid Loss: 3.764697822473817\n",
      "Early Stopping Count: 0\n"
     ]
    },
    {
     "name": "stderr",
     "output_type": "stream",
     "text": [
      "100%|██████████| 642/642 [09:26<00:00,  1.13it/s]\n"
     ]
    },
    {
     "name": "stdout",
     "output_type": "stream",
     "text": [
      "Epoch 9, Train Loss: 1.441559110846475, Valid Loss: 3.657113127789255\n",
      "Early Stopping Count: 0\n"
     ]
    },
    {
     "name": "stderr",
     "output_type": "stream",
     "text": [
      "100%|██████████| 642/642 [09:32<00:00,  1.12it/s]\n"
     ]
    },
    {
     "name": "stdout",
     "output_type": "stream",
     "text": [
      "Epoch 10, Train Loss: 1.392903542221521, Valid Loss: 3.590538049148301\n",
      "Early Stopping Count: 0\n"
     ]
    },
    {
     "name": "stderr",
     "output_type": "stream",
     "text": [
      "100%|██████████| 642/642 [09:27<00:00,  1.13it/s]\n"
     ]
    },
    {
     "name": "stdout",
     "output_type": "stream",
     "text": [
      "Epoch 11, Train Loss: 1.3632572328561563, Valid Loss: 3.5590676412744036\n",
      "Early Stopping Count: 0\n"
     ]
    },
    {
     "name": "stderr",
     "output_type": "stream",
     "text": [
      "100%|██████████| 642/642 [09:29<00:00,  1.13it/s]\n"
     ]
    },
    {
     "name": "stdout",
     "output_type": "stream",
     "text": [
      "Epoch 12, Train Loss: 1.344984054101219, Valid Loss: 3.5433909286886958\n",
      "Early Stopping Count: 0\n"
     ]
    },
    {
     "name": "stderr",
     "output_type": "stream",
     "text": [
      "100%|██████████| 642/642 [09:24<00:00,  1.14it/s]\n"
     ]
    },
    {
     "name": "stdout",
     "output_type": "stream",
     "text": [
      "Epoch 13, Train Loss: 1.3191431081183602, Valid Loss: 3.5305216352818376\n",
      "Early Stopping Count: 0\n"
     ]
    },
    {
     "name": "stderr",
     "output_type": "stream",
     "text": [
      "100%|██████████| 642/642 [09:25<00:00,  1.13it/s]\n"
     ]
    },
    {
     "name": "stdout",
     "output_type": "stream",
     "text": [
      "Epoch 14, Train Loss: 1.3006315350161164, Valid Loss: 3.5779979350203175\n"
     ]
    },
    {
     "name": "stderr",
     "output_type": "stream",
     "text": [
      "100%|██████████| 642/642 [09:27<00:00,  1.13it/s]\n"
     ]
    },
    {
     "name": "stdout",
     "output_type": "stream",
     "text": [
      "Epoch 15, Train Loss: 1.2575707378045793, Valid Loss: 3.4261681467799816\n",
      "Early Stopping Count: 0\n"
     ]
    },
    {
     "name": "stderr",
     "output_type": "stream",
     "text": [
      "100%|██████████| 642/642 [09:29<00:00,  1.13it/s]\n"
     ]
    },
    {
     "name": "stdout",
     "output_type": "stream",
     "text": [
      "Epoch 16, Train Loss: 1.2674195545484714, Valid Loss: 3.457551503585557\n"
     ]
    },
    {
     "name": "stderr",
     "output_type": "stream",
     "text": [
      "100%|██████████| 642/642 [08:56<00:00,  1.20it/s]\n"
     ]
    },
    {
     "name": "stdout",
     "output_type": "stream",
     "text": [
      "Epoch 17, Train Loss: 1.2387918393559916, Valid Loss: 3.504194881956456\n"
     ]
    },
    {
     "name": "stderr",
     "output_type": "stream",
     "text": [
      "100%|██████████| 642/642 [09:02<00:00,  1.18it/s]\n"
     ]
    },
    {
     "name": "stdout",
     "output_type": "stream",
     "text": [
      "Epoch 18, Train Loss: 1.2187683189583716, Valid Loss: 3.438877443135795\n"
     ]
    },
    {
     "name": "stderr",
     "output_type": "stream",
     "text": [
      "100%|██████████| 642/642 [09:04<00:00,  1.18it/s]\n"
     ]
    },
    {
     "name": "stdout",
     "output_type": "stream",
     "text": [
      "Epoch 19, Train Loss: 1.1953775772238817, Valid Loss: 3.404472926915702\n",
      "Early Stopping Count: 0\n"
     ]
    },
    {
     "name": "stderr",
     "output_type": "stream",
     "text": [
      "100%|██████████| 642/642 [08:39<00:00,  1.23it/s]\n"
     ]
    },
    {
     "name": "stdout",
     "output_type": "stream",
     "text": [
      "Epoch 20, Train Loss: 1.1770889145377268, Valid Loss: 3.3749633481947043\n",
      "Early Stopping Count: 0\n"
     ]
    },
    {
     "name": "stderr",
     "output_type": "stream",
     "text": [
      "100%|██████████| 642/642 [08:53<00:00,  1.20it/s]\n"
     ]
    },
    {
     "name": "stdout",
     "output_type": "stream",
     "text": [
      "Epoch 21, Train Loss: 1.1719500832839918, Valid Loss: 3.409132028030137\n"
     ]
    },
    {
     "name": "stderr",
     "output_type": "stream",
     "text": [
      "100%|██████████| 642/642 [08:53<00:00,  1.20it/s]\n"
     ]
    },
    {
     "name": "stdout",
     "output_type": "stream",
     "text": [
      "Epoch 22, Train Loss: 1.1712042380159147, Valid Loss: 3.3328969276557534\n",
      "Early Stopping Count: 0\n"
     ]
    },
    {
     "name": "stderr",
     "output_type": "stream",
     "text": [
      "100%|██████████| 642/642 [08:54<00:00,  1.20it/s]\n"
     ]
    },
    {
     "name": "stdout",
     "output_type": "stream",
     "text": [
      "Epoch 23, Train Loss: 1.1462816859702827, Valid Loss: 3.436011827598184\n"
     ]
    },
    {
     "name": "stderr",
     "output_type": "stream",
     "text": [
      "100%|██████████| 642/642 [08:54<00:00,  1.20it/s]\n"
     ]
    },
    {
     "name": "stdout",
     "output_type": "stream",
     "text": [
      "Epoch 25, Train Loss: 1.144316449157917, Valid Loss: 3.3508831040333895\n"
     ]
    },
    {
     "name": "stderr",
     "output_type": "stream",
     "text": [
      "100%|██████████| 642/642 [09:06<00:00,  1.17it/s]\n"
     ]
    },
    {
     "name": "stdout",
     "output_type": "stream",
     "text": [
      "Epoch 26, Train Loss: 1.1323690076483373, Valid Loss: 3.2816020634214755\n",
      "Early Stopping Count: 0\n"
     ]
    },
    {
     "name": "stderr",
     "output_type": "stream",
     "text": [
      "100%|██████████| 642/642 [09:05<00:00,  1.18it/s]\n"
     ]
    },
    {
     "name": "stdout",
     "output_type": "stream",
     "text": [
      "Epoch 27, Train Loss: 1.1282889465119608, Valid Loss: 3.2336834002349337\n",
      "Early Stopping Count: 0\n"
     ]
    },
    {
     "name": "stderr",
     "output_type": "stream",
     "text": [
      "100%|██████████| 642/642 [09:07<00:00,  1.17it/s]\n"
     ]
    },
    {
     "name": "stdout",
     "output_type": "stream",
     "text": [
      "Epoch 28, Train Loss: 1.1094382685664286, Valid Loss: 3.2928956767260016\n"
     ]
    },
    {
     "name": "stderr",
     "output_type": "stream",
     "text": [
      "100%|██████████| 642/642 [09:22<00:00,  1.14it/s]\n"
     ]
    },
    {
     "name": "stdout",
     "output_type": "stream",
     "text": [
      "Epoch 29, Train Loss: 1.0969569950460274, Valid Loss: 3.276273581941249\n"
     ]
    },
    {
     "name": "stderr",
     "output_type": "stream",
     "text": [
      "100%|██████████| 642/642 [09:24<00:00,  1.14it/s]\n"
     ]
    },
    {
     "name": "stdout",
     "output_type": "stream",
     "text": [
      "Epoch 30, Train Loss: 1.1013853850765762, Valid Loss: 3.2267819723840487\n",
      "Early Stopping Count: 0\n"
     ]
    },
    {
     "name": "stderr",
     "output_type": "stream",
     "text": [
      "100%|██████████| 642/642 [09:27<00:00,  1.13it/s]\n"
     ]
    },
    {
     "name": "stdout",
     "output_type": "stream",
     "text": [
      "Epoch 31, Train Loss: 1.0842936079821484, Valid Loss: 3.214067442942474\n",
      "Early Stopping Count: 0\n"
     ]
    },
    {
     "name": "stderr",
     "output_type": "stream",
     "text": [
      "100%|██████████| 642/642 [08:59<00:00,  1.19it/s]\n"
     ]
    },
    {
     "name": "stdout",
     "output_type": "stream",
     "text": [
      "Epoch 32, Train Loss: 1.0836955992232231, Valid Loss: 3.2205485550023742\n"
     ]
    },
    {
     "name": "stderr",
     "output_type": "stream",
     "text": [
      "100%|██████████| 642/642 [09:03<00:00,  1.18it/s]\n"
     ]
    },
    {
     "name": "stdout",
     "output_type": "stream",
     "text": [
      "Epoch 33, Train Loss: 1.0735060661752647, Valid Loss: 3.2776557146492653\n"
     ]
    },
    {
     "name": "stderr",
     "output_type": "stream",
     "text": [
      "100%|██████████| 642/642 [09:26<00:00,  1.13it/s]\n"
     ]
    },
    {
     "name": "stdout",
     "output_type": "stream",
     "text": [
      "Epoch 34, Train Loss: 1.0690745943431914, Valid Loss: 3.2558252629587208\n"
     ]
    },
    {
     "name": "stderr",
     "output_type": "stream",
     "text": [
      "100%|██████████| 642/642 [09:20<00:00,  1.15it/s]\n"
     ]
    },
    {
     "name": "stdout",
     "output_type": "stream",
     "text": [
      "Epoch 35, Train Loss: 1.0700492340827656, Valid Loss: 3.211297962625148\n",
      "Early Stopping Count: 0\n"
     ]
    },
    {
     "name": "stderr",
     "output_type": "stream",
     "text": [
      "100%|██████████| 642/642 [09:06<00:00,  1.17it/s]\n"
     ]
    },
    {
     "name": "stdout",
     "output_type": "stream",
     "text": [
      "Epoch 36, Train Loss: 1.051897314385833, Valid Loss: 3.1994258710893533\n",
      "Early Stopping Count: 0\n"
     ]
    },
    {
     "name": "stderr",
     "output_type": "stream",
     "text": [
      "100%|██████████| 642/642 [09:26<00:00,  1.13it/s]\n"
     ]
    },
    {
     "name": "stdout",
     "output_type": "stream",
     "text": [
      "Epoch 37, Train Loss: 1.0552423380059988, Valid Loss: 3.2089864217628867\n"
     ]
    },
    {
     "name": "stderr",
     "output_type": "stream",
     "text": [
      "100%|██████████| 642/642 [08:56<00:00,  1.20it/s]\n"
     ]
    },
    {
     "name": "stdout",
     "output_type": "stream",
     "text": [
      "Epoch 38, Train Loss: 1.047318837074476, Valid Loss: 3.2186565601219566\n"
     ]
    },
    {
     "name": "stderr",
     "output_type": "stream",
     "text": [
      "100%|██████████| 642/642 [09:00<00:00,  1.19it/s]\n"
     ]
    },
    {
     "name": "stdout",
     "output_type": "stream",
     "text": [
      "Epoch 39, Train Loss: 1.0397466330142036, Valid Loss: 3.2474319207466253\n"
     ]
    },
    {
     "name": "stderr",
     "output_type": "stream",
     "text": [
      "100%|██████████| 642/642 [08:53<00:00,  1.20it/s]\n"
     ]
    },
    {
     "name": "stdout",
     "output_type": "stream",
     "text": [
      "Epoch 40, Train Loss: 1.0348902250004706, Valid Loss: 3.1905297485448547\n",
      "Early Stopping Count: 0\n"
     ]
    },
    {
     "name": "stderr",
     "output_type": "stream",
     "text": [
      "100%|██████████| 642/642 [09:00<00:00,  1.19it/s]\n"
     ]
    },
    {
     "name": "stdout",
     "output_type": "stream",
     "text": [
      "Epoch 41, Train Loss: 1.0377763030684997, Valid Loss: 3.2208034729553483\n"
     ]
    },
    {
     "name": "stderr",
     "output_type": "stream",
     "text": [
      "100%|██████████| 642/642 [08:37<00:00,  1.24it/s]\n"
     ]
    },
    {
     "name": "stdout",
     "output_type": "stream",
     "text": [
      "Epoch 42, Train Loss: 1.042425389323279, Valid Loss: 3.185254319239471\n",
      "Early Stopping Count: 0\n"
     ]
    },
    {
     "name": "stderr",
     "output_type": "stream",
     "text": [
      "100%|██████████| 642/642 [08:58<00:00,  1.19it/s]\n"
     ]
    },
    {
     "name": "stdout",
     "output_type": "stream",
     "text": [
      "Epoch 43, Train Loss: 1.0186372853328134, Valid Loss: 3.236222958160659\n"
     ]
    },
    {
     "name": "stderr",
     "output_type": "stream",
     "text": [
      "100%|██████████| 642/642 [09:06<00:00,  1.17it/s]\n"
     ]
    },
    {
     "name": "stdout",
     "output_type": "stream",
     "text": [
      "Epoch 44, Train Loss: 1.0269347955690367, Valid Loss: 3.155317439871319\n",
      "Early Stopping Count: 0\n"
     ]
    },
    {
     "name": "stderr",
     "output_type": "stream",
     "text": [
      "100%|██████████| 642/642 [08:57<00:00,  1.19it/s]\n"
     ]
    },
    {
     "name": "stdout",
     "output_type": "stream",
     "text": [
      "Epoch 45, Train Loss: 1.0180633197135271, Valid Loss: 3.196733383809106\n"
     ]
    },
    {
     "name": "stderr",
     "output_type": "stream",
     "text": [
      "100%|██████████| 642/642 [08:51<00:00,  1.21it/s]\n"
     ]
    },
    {
     "name": "stdout",
     "output_type": "stream",
     "text": [
      "Epoch 46, Train Loss: 1.0173666730662372, Valid Loss: 3.168453778250743\n"
     ]
    },
    {
     "name": "stderr",
     "output_type": "stream",
     "text": [
      "100%|██████████| 642/642 [08:42<00:00,  1.23it/s]\n"
     ]
    },
    {
     "name": "stdout",
     "output_type": "stream",
     "text": [
      "Epoch 47, Train Loss: 1.0100926351138735, Valid Loss: 3.0807707895666865\n",
      "Early Stopping Count: 0\n"
     ]
    },
    {
     "name": "stderr",
     "output_type": "stream",
     "text": [
      "100%|██████████| 642/642 [09:00<00:00,  1.19it/s]\n"
     ]
    },
    {
     "name": "stdout",
     "output_type": "stream",
     "text": [
      "Epoch 48, Train Loss: 0.9998072040415256, Valid Loss: 3.1336949558581337\n"
     ]
    },
    {
     "name": "stderr",
     "output_type": "stream",
     "text": [
      "100%|██████████| 642/642 [08:58<00:00,  1.19it/s]\n"
     ]
    },
    {
     "name": "stdout",
     "output_type": "stream",
     "text": [
      "Epoch 49, Train Loss: 0.9891026309717481, Valid Loss: 3.113355311296754\n"
     ]
    },
    {
     "name": "stderr",
     "output_type": "stream",
     "text": [
      "100%|██████████| 642/642 [08:55<00:00,  1.20it/s]\n"
     ]
    },
    {
     "name": "stdout",
     "output_type": "stream",
     "text": [
      "Epoch 50, Train Loss: 0.9995836883876182, Valid Loss: 3.107940374794653\n"
     ]
    }
   ],
   "source": [
    "# SimCLR 모델 정의\n",
    "class SimCLR(nn.Module):\n",
    "    def __init__(self, base_model, projection_dim=128):\n",
    "        super(SimCLR, self).__init__()\n",
    "        self.base_model = base_model(weights=None)\n",
    "        self.base_model.fc = nn.Identity()  # 마지막 계층 제거\n",
    "        features_dim = 512\n",
    "        \n",
    "        self.projection_head = nn.Sequential(\n",
    "            nn.Linear(features_dim, 512),\n",
    "            nn.ReLU(),\n",
    "            nn.Linear(512, projection_dim),\n",
    "        )\n",
    "    \n",
    "    def forward(self, x):\n",
    "        x_i, x_j = x\n",
    "        h_i = self.base_model(x_i)\n",
    "        h_j = self.base_model(x_j)\n",
    "        \n",
    "        z_i = self.projection_head(h_i)\n",
    "        z_j = self.projection_head(h_j)\n",
    "        \n",
    "        return z_i, z_j\n",
    "\n",
    "model = SimCLR(base_model=models.resnet18)\n",
    "model = nn.DataParallel(model).to(device)\n",
    "# criterion = nn.CosineSimilarity(dim=1)\n",
    "criterion = loss_fn\n",
    "optimizer = optim.Adam(model.parameters(), lr=0.001)\n",
    "\n",
    "\n",
    "def validate(model, valid_loader, criterion):\n",
    "    model.eval()\n",
    "    total_loss = 0\n",
    "    with torch.no_grad():\n",
    "        for (x_i, x_j), _ in valid_loader:\n",
    "            x_i, x_j = x_i.to(device), x_j.to(device)\n",
    "            z_i, z_j = model((x_i, x_j))\n",
    "            loss = criterion(z_i, z_j)\n",
    "            total_loss += loss.item()\n",
    "    return total_loss / len(valid_loader)\n",
    "\n",
    "# 학습 과정\n",
    "def train(model, train_loader, valid_loader, criterion, optimizer, epochs=50, patience=5):\n",
    "    best_loss = float('inf')\n",
    "    early_stopping_counter = 0\n",
    "    \n",
    "    for epoch in range(epochs):\n",
    "        model.train()\n",
    "        total_loss = 0\n",
    "        for (x_i, x_j), _ in tqdm(train_loader):\n",
    "            optimizer.zero_grad()\n",
    "            x_i = x_i.to(device)\n",
    "            x_j = x_j.to(device)\n",
    "            \n",
    "            z_i, z_j = model((x_i, x_j))  # 이미지 쌍을 튜플로 묶어 전달\n",
    "            loss = torch.mean(criterion(z_i, z_j))\n",
    "            loss.backward()\n",
    "            total_loss += loss.item()\n",
    "            optimizer.step()\n",
    "            \n",
    "        avg_train_loss = total_loss / len(train_loader)\n",
    "        avg_valid_loss = validate(model, valid_loader, criterion)\n",
    "        print(f'Epoch {epoch+1}, Train Loss: {avg_train_loss}, Valid Loss: {avg_valid_loss}')\n",
    "        \n",
    "        # Early stopping logic\n",
    "        if avg_valid_loss < best_loss:\n",
    "            best_loss = avg_valid_loss\n",
    "            torch.save(model.module.state_dict(), 'best_model_simCLR_SleepEDF.pth')\n",
    "            early_stopping_counter = 0\n",
    "            print(f\"Early Stopping Count: {early_stopping_counter}\")\n",
    "        else:\n",
    "            early_stopping_counter += 1\n",
    "            if early_stopping_counter >= patience:\n",
    "                print(\"Early stopping\")\n",
    "                break\n",
    "    \n",
    "print(\"================ Training START ================\")\n",
    "train(model, train_loader, val_loader, criterion, optimizer)"
   ]
  },
  {
   "cell_type": "code",
   "execution_count": 7,
   "id": "a8558c9b",
   "metadata": {},
   "outputs": [
    {
     "name": "stderr",
     "output_type": "stream",
     "text": [
      "/home/yhna/anaconda3/lib/python3.8/site-packages/torchvision/models/_utils.py:208: UserWarning: The parameter 'pretrained' is deprecated since 0.13 and may be removed in the future, please use 'weights' instead.\n",
      "  warnings.warn(\n",
      "/home/yhna/anaconda3/lib/python3.8/site-packages/torchvision/models/_utils.py:223: UserWarning: Arguments other than a weight enum or `None` for 'weights' are deprecated since 0.13 and may be removed in the future. The current behavior is equivalent to passing `weights=None`.\n",
      "  warnings.warn(msg)\n",
      "100%|██████████| 122/122 [00:00<00:00, 533.05it/s]\n",
      "100%|██████████| 14/14 [00:00<00:00, 681.30it/s]\n",
      "100%|██████████| 16/16 [00:00<00:00, 692.73it/s]\n"
     ]
    },
    {
     "name": "stdout",
     "output_type": "stream",
     "text": [
      "================ Fine-tuning START ================\n"
     ]
    },
    {
     "name": "stderr",
     "output_type": "stream",
     "text": [
      "100%|██████████| 642/642 [09:12<00:00,  1.16it/s]\n",
      "100%|██████████| 59/59 [00:55<00:00,  1.07it/s]\n"
     ]
    },
    {
     "name": "stdout",
     "output_type": "stream",
     "text": [
      "Early Stopping Count: 0\n",
      "Epoch 1, Train Loss: 0.9486, Train Accuracy: 0.6594, Val Loss: 0.6827, Val Accuracy: 0.7334\n"
     ]
    },
    {
     "name": "stderr",
     "output_type": "stream",
     "text": [
      "100%|██████████| 642/642 [09:20<00:00,  1.15it/s]\n",
      "100%|██████████| 59/59 [00:54<00:00,  1.08it/s]\n"
     ]
    },
    {
     "name": "stdout",
     "output_type": "stream",
     "text": [
      "Early Stopping Count: 0\n",
      "Epoch 2, Train Loss: 0.6962, Train Accuracy: 0.7325, Val Loss: 0.6308, Val Accuracy: 0.7519\n"
     ]
    },
    {
     "name": "stderr",
     "output_type": "stream",
     "text": [
      "100%|██████████| 642/642 [09:18<00:00,  1.15it/s]\n",
      "100%|██████████| 59/59 [00:54<00:00,  1.08it/s]\n"
     ]
    },
    {
     "name": "stdout",
     "output_type": "stream",
     "text": [
      "Early Stopping Count: 0\n",
      "Epoch 3, Train Loss: 0.6668, Train Accuracy: 0.7425, Val Loss: 0.6280, Val Accuracy: 0.7555\n"
     ]
    },
    {
     "name": "stderr",
     "output_type": "stream",
     "text": [
      "100%|██████████| 642/642 [09:21<00:00,  1.14it/s]\n",
      "100%|██████████| 59/59 [00:54<00:00,  1.08it/s]\n"
     ]
    },
    {
     "name": "stdout",
     "output_type": "stream",
     "text": [
      "Early Stopping Count: 1\n",
      "Epoch 4, Train Loss: 0.6490, Train Accuracy: 0.7479, Val Loss: 0.6391, Val Accuracy: 0.7512\n"
     ]
    },
    {
     "name": "stderr",
     "output_type": "stream",
     "text": [
      "100%|██████████| 642/642 [09:34<00:00,  1.12it/s]\n",
      "100%|██████████| 59/59 [00:54<00:00,  1.09it/s]\n"
     ]
    },
    {
     "name": "stdout",
     "output_type": "stream",
     "text": [
      "Early Stopping Count: 2\n",
      "Epoch 5, Train Loss: 0.6381, Train Accuracy: 0.7539, Val Loss: 0.6444, Val Accuracy: 0.7493\n"
     ]
    },
    {
     "name": "stderr",
     "output_type": "stream",
     "text": [
      "100%|██████████| 642/642 [09:18<00:00,  1.15it/s]\n",
      "100%|██████████| 59/59 [00:54<00:00,  1.08it/s]\n"
     ]
    },
    {
     "name": "stdout",
     "output_type": "stream",
     "text": [
      "Early Stopping Count: 0\n",
      "Epoch 6, Train Loss: 0.6301, Train Accuracy: 0.7556, Val Loss: 0.6185, Val Accuracy: 0.7575\n"
     ]
    },
    {
     "name": "stderr",
     "output_type": "stream",
     "text": [
      "100%|██████████| 642/642 [09:17<00:00,  1.15it/s]\n",
      "100%|██████████| 59/59 [00:54<00:00,  1.08it/s]\n"
     ]
    },
    {
     "name": "stdout",
     "output_type": "stream",
     "text": [
      "Early Stopping Count: 0\n",
      "Epoch 7, Train Loss: 0.6227, Train Accuracy: 0.7599, Val Loss: 0.6156, Val Accuracy: 0.7583\n"
     ]
    },
    {
     "name": "stderr",
     "output_type": "stream",
     "text": [
      "100%|██████████| 642/642 [09:17<00:00,  1.15it/s]\n",
      "100%|██████████| 59/59 [00:54<00:00,  1.08it/s]\n"
     ]
    },
    {
     "name": "stdout",
     "output_type": "stream",
     "text": [
      "Early Stopping Count: 1\n",
      "Epoch 8, Train Loss: 0.6173, Train Accuracy: 0.7607, Val Loss: 0.6076, Val Accuracy: 0.7554\n"
     ]
    },
    {
     "name": "stderr",
     "output_type": "stream",
     "text": [
      "100%|██████████| 642/642 [09:17<00:00,  1.15it/s]\n",
      "100%|██████████| 59/59 [00:54<00:00,  1.08it/s]\n"
     ]
    },
    {
     "name": "stdout",
     "output_type": "stream",
     "text": [
      "Early Stopping Count: 2\n",
      "Epoch 9, Train Loss: 0.6127, Train Accuracy: 0.7626, Val Loss: 0.6140, Val Accuracy: 0.7573\n"
     ]
    },
    {
     "name": "stderr",
     "output_type": "stream",
     "text": [
      "100%|██████████| 642/642 [09:18<00:00,  1.15it/s]\n",
      "100%|██████████| 59/59 [00:54<00:00,  1.08it/s]\n"
     ]
    },
    {
     "name": "stdout",
     "output_type": "stream",
     "text": [
      "Early Stopping Count: 3\n",
      "Epoch 10, Train Loss: 0.6045, Train Accuracy: 0.7658, Val Loss: 0.6131, Val Accuracy: 0.7556\n"
     ]
    },
    {
     "name": "stderr",
     "output_type": "stream",
     "text": [
      "100%|██████████| 642/642 [09:17<00:00,  1.15it/s]\n",
      "100%|██████████| 59/59 [00:54<00:00,  1.08it/s]\n"
     ]
    },
    {
     "name": "stdout",
     "output_type": "stream",
     "text": [
      "Early Stopping Count: 0\n",
      "Epoch 11, Train Loss: 0.6022, Train Accuracy: 0.7657, Val Loss: 0.6076, Val Accuracy: 0.7624\n"
     ]
    },
    {
     "name": "stderr",
     "output_type": "stream",
     "text": [
      "100%|██████████| 642/642 [09:19<00:00,  1.15it/s]\n",
      "100%|██████████| 59/59 [00:54<00:00,  1.08it/s]\n"
     ]
    },
    {
     "name": "stdout",
     "output_type": "stream",
     "text": [
      "Early Stopping Count: 0\n",
      "Epoch 12, Train Loss: 0.5988, Train Accuracy: 0.7686, Val Loss: 0.6039, Val Accuracy: 0.7629\n"
     ]
    },
    {
     "name": "stderr",
     "output_type": "stream",
     "text": [
      "100%|██████████| 642/642 [09:03<00:00,  1.18it/s]\n",
      "100%|██████████| 59/59 [00:54<00:00,  1.09it/s]\n"
     ]
    },
    {
     "name": "stdout",
     "output_type": "stream",
     "text": [
      "Early Stopping Count: 0\n",
      "Epoch 13, Train Loss: 0.5966, Train Accuracy: 0.7688, Val Loss: 0.5984, Val Accuracy: 0.7632\n"
     ]
    },
    {
     "name": "stderr",
     "output_type": "stream",
     "text": [
      "100%|██████████| 642/642 [09:16<00:00,  1.15it/s]\n",
      "100%|██████████| 59/59 [00:54<00:00,  1.09it/s]\n"
     ]
    },
    {
     "name": "stdout",
     "output_type": "stream",
     "text": [
      "Early Stopping Count: 1\n",
      "Epoch 14, Train Loss: 0.5904, Train Accuracy: 0.7706, Val Loss: 0.6120, Val Accuracy: 0.7606\n"
     ]
    },
    {
     "name": "stderr",
     "output_type": "stream",
     "text": [
      "100%|██████████| 642/642 [09:14<00:00,  1.16it/s]\n",
      "100%|██████████| 59/59 [00:54<00:00,  1.09it/s]\n"
     ]
    },
    {
     "name": "stdout",
     "output_type": "stream",
     "text": [
      "Early Stopping Count: 2\n",
      "Epoch 15, Train Loss: 0.5903, Train Accuracy: 0.7707, Val Loss: 0.6226, Val Accuracy: 0.7583\n"
     ]
    },
    {
     "name": "stderr",
     "output_type": "stream",
     "text": [
      "100%|██████████| 642/642 [09:19<00:00,  1.15it/s]\n",
      "100%|██████████| 59/59 [00:54<00:00,  1.09it/s]\n"
     ]
    },
    {
     "name": "stdout",
     "output_type": "stream",
     "text": [
      "Early Stopping Count: 3\n",
      "Epoch 16, Train Loss: 0.5878, Train Accuracy: 0.7707, Val Loss: 0.6035, Val Accuracy: 0.7612\n"
     ]
    },
    {
     "name": "stderr",
     "output_type": "stream",
     "text": [
      "100%|██████████| 642/642 [09:17<00:00,  1.15it/s]\n",
      "100%|██████████| 59/59 [00:54<00:00,  1.07it/s]\n"
     ]
    },
    {
     "name": "stdout",
     "output_type": "stream",
     "text": [
      "Early Stopping Count: 4\n",
      "Epoch 17, Train Loss: 0.5834, Train Accuracy: 0.7732, Val Loss: 0.6233, Val Accuracy: 0.7551\n"
     ]
    },
    {
     "name": "stderr",
     "output_type": "stream",
     "text": [
      "100%|██████████| 642/642 [09:17<00:00,  1.15it/s]\n",
      "100%|██████████| 59/59 [00:53<00:00,  1.11it/s]\n"
     ]
    },
    {
     "name": "stdout",
     "output_type": "stream",
     "text": [
      "Early Stopping Count: 5\n",
      "Early stopping\n",
      "================ Checking-TEST START ================\n"
     ]
    },
    {
     "name": "stderr",
     "output_type": "stream",
     "text": [
      "100%|██████████| 59/59 [00:53<00:00,  1.10it/s]\n",
      "100%|██████████| 65/65 [01:00<00:00,  1.08it/s]\n"
     ]
    },
    {
     "name": "stdout",
     "output_type": "stream",
     "text": [
      "Early Stopping Count: 0\n",
      "Epoch 1, Train Loss: 0.6647, Train Accuracy: 0.7471, Val Loss: 0.5796, Val Accuracy: 0.7798\n"
     ]
    }
   ],
   "source": [
    "# Top Layer 추가: 예를 들어, CIFAR-10의 경우 10개의 클래스가 있습니다.\n",
    "\n",
    "\n",
    "class SimCLR(nn.Module):\n",
    "    def __init__(self, base_model, num_classes):\n",
    "        super(SimCLR, self).__init__()\n",
    "        self.base_model = base_model(pretrained=False)\n",
    "        \n",
    "        # base_model의 마지막 fully connected layer를 제거합니다.\n",
    "        self.base_model.fc = nn.Identity()\n",
    "        \n",
    "        # 분류를 위한 새로운 레이어를 추가합니다.\n",
    "        self.fc = nn.Linear(512, num_classes)  # ResNet18 기준으로 512는 feature dimension입니다.\n",
    "\n",
    "    def forward(self, x):\n",
    "        # base_model을 통해 feature를 추출합니다.\n",
    "        h = self.base_model(x)\n",
    "        \n",
    "        # 추출된 feature를 새로운 분류 레이어로 전달합니다.\n",
    "        out = self.fc(h)\n",
    "        \n",
    "        return out\n",
    "\n",
    "\n",
    "model = SimCLR(base_model=models.resnet18, num_classes=10)\n",
    "checkpoint = torch.load(\"./best_model_simCLR_SleepEDF.pth\")\n",
    "checkpoint = {k:v for k, v in checkpoint.items() if \"projection_head\" not in k}\n",
    "num_classes, num_features = 10, 512\n",
    "fc_weights = torch.nn.init.xavier_uniform_(torch.empty(num_classes, num_features))\n",
    "fc_bias = torch.zeros(num_classes)\n",
    "\n",
    "# Add to checkpoint under the correct keys\n",
    "checkpoint['fc.weight'] = fc_weights\n",
    "checkpoint['fc.bias'] = fc_bias\n",
    "\n",
    "\n",
    "model.load_state_dict(checkpoint, strict=True)\n",
    "model = nn.DataParallel(model).to(device)\n",
    "\n",
    "\n",
    "train_transform = transforms.Compose([\n",
    "    transforms.Resize(size=256),\n",
    "    transforms.RandomResizedCrop(size=224),\n",
    "    transforms.Lambda(lambda image: image.convert('RGB')),  # RGBA를 RGB로 변환\n",
    "    transforms.ToTensor(),\n",
    "])\n",
    "\n",
    "valid_transform = transforms.Compose([\n",
    "    transforms.Resize(size=224),\n",
    "    transforms.Lambda(lambda image: image.convert('RGB')),  # RGBA를 RGB로 변환\n",
    "    transforms.ToTensor(),\n",
    "])\n",
    "\n",
    "# Fine-tuning을 위한 데이터셋 준비\n",
    "\n",
    "train_dataloader_args = {'batch_size': batch_size, 'shuffle': True, 'num_workers': num_worker}\n",
    "valid_dataloader_args = {'batch_size': batch_size, 'shuffle': False, 'num_workers': num_worker}\n",
    "train_dataset = EEGDataLoader(train_transform, fold, DATASET, DATA_PATH, FILE_NAME, set='train')\n",
    "val_dataset = EEGDataLoader(valid_transform, fold, DATASET, DATA_PATH, FILE_NAME, set='val')\n",
    "test_dataset = EEGDataLoader(valid_transform, fold, DATASET, DATA_PATH, FILE_NAME, set='test')\n",
    "\n",
    "train_loader = DataLoader(dataset=train_dataset, **train_dataloader_args)\n",
    "val_loader = DataLoader(dataset=val_dataset, **valid_dataloader_args)\n",
    "test_loader = DataLoader(dataset=test_dataset, **valid_dataloader_args)\n",
    "\n",
    "\n",
    "# Optimizer와 Loss Function 설정\n",
    "optimizer = optim.Adam(model.parameters(), lr=1e-4) # 보통 fine-tuning은 낮은 학습률을 사용합니다.\n",
    "criterion = nn.CrossEntropyLoss() # 분류 작업을 위한 Cross Entropy Loss\n",
    "\n",
    "\n",
    "def fine_tune(model, train_loader, val_loader, criterion, optimizer, epochs=100, device='cuda'):\n",
    "    model.to(device)\n",
    "    best_acc = 0\n",
    "    patience = 5\n",
    "    \n",
    "    for epoch in range(epochs):\n",
    "        model.train()  # Set model to training mode\n",
    "        total_loss = 0\n",
    "        correct = 0\n",
    "        total = 0\n",
    "\n",
    "        for inputs, targets in tqdm(train_loader):\n",
    "            inputs, targets = inputs.to(device), targets.to(device)\n",
    "            \n",
    "            optimizer.zero_grad()\n",
    "            outputs = model(inputs)\n",
    "            loss = criterion(outputs, targets)\n",
    "            loss.backward()\n",
    "            optimizer.step()\n",
    "            \n",
    "            total_loss += loss.item()\n",
    "            _, predicted = torch.max(outputs.data, 1)\n",
    "            total += targets.size(0)\n",
    "            correct += (predicted == targets).sum().item()\n",
    "\n",
    "        train_loss = total_loss / len(train_loader)\n",
    "        train_accuracy = correct / total\n",
    "\n",
    "        # Validation phase\n",
    "        model.eval()  # Set model to evaluation mode\n",
    "        val_loss = 0\n",
    "        correct = 0\n",
    "        total = 0\n",
    "        with torch.no_grad():\n",
    "            for inputs, targets in tqdm(val_loader):\n",
    "                inputs, targets = inputs.to(device), targets.to(device)\n",
    "                outputs = model(inputs)\n",
    "                loss = criterion(outputs, targets)\n",
    "                \n",
    "                val_loss += loss.item()\n",
    "                _, predicted = torch.max(outputs.data, 1)\n",
    "                total += targets.size(0)\n",
    "                correct += (predicted == targets).sum().item()\n",
    "\n",
    "        val_loss /= len(val_loader)\n",
    "        val_accuracy = correct / total\n",
    "        \n",
    "        \n",
    "        # Early stopping logic\n",
    "        if val_accuracy > best_acc:\n",
    "            best_acc = val_accuracy\n",
    "            torch.save(model.module.state_dict(), 'best_model_finetune_simCLR_SleepEDF.pth')\n",
    "            early_stopping_counter = 0\n",
    "            print(f\"Early Stopping Count: {early_stopping_counter}\")\n",
    "        else:\n",
    "            early_stopping_counter += 1\n",
    "            print(f\"Early Stopping Count: {early_stopping_counter}\")\n",
    "            if early_stopping_counter >= patience:\n",
    "                print(\"Early stopping\")\n",
    "                break\n",
    "\n",
    "        print(f'Epoch {epoch+1}, Train Loss: {train_loss:.4f}, Train Accuracy: {train_accuracy:.4f}, Val Loss: {val_loss:.4f}, Val Accuracy: {val_accuracy:.4f}')\n",
    "\n",
    "print(\"================ Fine-tuning START ================\")\n",
    "# Assuming `fine_tune_loader` is your training loader and `val_loader` is your validation loader\n",
    "fine_tune(model, train_loader, val_loader, criterion, optimizer, device=device)\n",
    "print(\"================ Checking-TEST START ================\")\n",
    "fine_tune(model, val_loader, test_loader, criterion, optimizer, device=device, epochs = 1)"
   ]
  },
  {
   "cell_type": "code",
   "execution_count": 9,
   "id": "da61b26e",
   "metadata": {},
   "outputs": [
    {
     "name": "stderr",
     "output_type": "stream",
     "text": [
      "*c* argument looks like a single numeric RGB or RGBA sequence, which should be avoided as value-mapping will have precedence in case its length matches with *x* & *y*.  Please use the *color* keyword-argument or provide a 2-D array with a single row if you intend to specify the same RGB or RGBA value for all points.\n",
      "*c* argument looks like a single numeric RGB or RGBA sequence, which should be avoided as value-mapping will have precedence in case its length matches with *x* & *y*.  Please use the *color* keyword-argument or provide a 2-D array with a single row if you intend to specify the same RGB or RGBA value for all points.\n",
      "*c* argument looks like a single numeric RGB or RGBA sequence, which should be avoided as value-mapping will have precedence in case its length matches with *x* & *y*.  Please use the *color* keyword-argument or provide a 2-D array with a single row if you intend to specify the same RGB or RGBA value for all points.\n",
      "*c* argument looks like a single numeric RGB or RGBA sequence, which should be avoided as value-mapping will have precedence in case its length matches with *x* & *y*.  Please use the *color* keyword-argument or provide a 2-D array with a single row if you intend to specify the same RGB or RGBA value for all points.\n",
      "*c* argument looks like a single numeric RGB or RGBA sequence, which should be avoided as value-mapping will have precedence in case its length matches with *x* & *y*.  Please use the *color* keyword-argument or provide a 2-D array with a single row if you intend to specify the same RGB or RGBA value for all points.\n",
      "*c* argument looks like a single numeric RGB or RGBA sequence, which should be avoided as value-mapping will have precedence in case its length matches with *x* & *y*.  Please use the *color* keyword-argument or provide a 2-D array with a single row if you intend to specify the same RGB or RGBA value for all points.\n",
      "*c* argument looks like a single numeric RGB or RGBA sequence, which should be avoided as value-mapping will have precedence in case its length matches with *x* & *y*.  Please use the *color* keyword-argument or provide a 2-D array with a single row if you intend to specify the same RGB or RGBA value for all points.\n",
      "*c* argument looks like a single numeric RGB or RGBA sequence, which should be avoided as value-mapping will have precedence in case its length matches with *x* & *y*.  Please use the *color* keyword-argument or provide a 2-D array with a single row if you intend to specify the same RGB or RGBA value for all points.\n",
      "*c* argument looks like a single numeric RGB or RGBA sequence, which should be avoided as value-mapping will have precedence in case its length matches with *x* & *y*.  Please use the *color* keyword-argument or provide a 2-D array with a single row if you intend to specify the same RGB or RGBA value for all points.\n",
      "*c* argument looks like a single numeric RGB or RGBA sequence, which should be avoided as value-mapping will have precedence in case its length matches with *x* & *y*.  Please use the *color* keyword-argument or provide a 2-D array with a single row if you intend to specify the same RGB or RGBA value for all points.\n"
     ]
    },
    {
     "data": {
      "image/png": "[encoded data removed]",
      "text/plain": [
       "<Figure size 1008x432 with 2 Axes>"
      ]
     },
     "metadata": {
      "needs_background": "light"
     },
     "output_type": "display_data"
    }
   ],
   "source": [
    "# 특징과 라벨을 추출하는 함수\n",
    "import seaborn as sns\n",
    "\n",
    "def extract_features_and_labels(model, loader):\n",
    "    model.eval()\n",
    "    features = []\n",
    "    labels = []\n",
    "    with torch.no_grad():\n",
    "        for x_i, label in loader:\n",
    "            x_i = x_i.to(device)\n",
    "            feature = model(x_i).cpu().numpy()\n",
    "            features.append(feature)\n",
    "            labels.append(label.numpy())\n",
    "    features = np.concatenate(features, axis=0)\n",
    "    labels = np.concatenate(labels, axis=0)\n",
    "    return features, labels\n",
    "\n",
    "# 시각화 코드는 라벨에 따라 색상을 다르게 할 수 있도록 수정됩니다.\n",
    "features, labels = extract_features_and_labels(model, val_loader)\n",
    "tsne_features = TSNE(n_components=2).fit_transform(features)\n",
    "pca_features = PCA(n_components=2).fit_transform(features)\n",
    "\n",
    "# 클래스별로 다른 색상을 사용하기 위해 unique labels과 colormap을 준비합니다.\n",
    "unique_labels = np.unique(labels)\n",
    "# colors = plt.cm.get_cmap('tab10', len(unique_labels))\n",
    "palette = sns.color_palette('deep', len(unique_labels))\n",
    "colors = sns.color_palette(palette)\n",
    "\n",
    "stage_labels = ['wake', 'N1', 'N2', 'N3', 'REM']\n",
    "\n",
    "plt.figure(figsize=(14, 6))\n",
    "\n",
    "# T-SNE 시각화\n",
    "plt.subplot(1, 2, 1)\n",
    "for i, label in enumerate(unique_labels):\n",
    "    plt.scatter(tsne_features[labels == label, 0], tsne_features[labels == label, 1], \n",
    "                c=colors[i], label=stage_labels[i])  # 수정된 부분: colors(i) -> colors[i]\n",
    "plt.title('T-SNE Visualization')\n",
    "plt.legend()\n",
    "\n",
    "# PCA 시각화\n",
    "plt.subplot(1, 2, 2)\n",
    "for i, label in enumerate(unique_labels):\n",
    "    plt.scatter(pca_features[labels == label, 0], pca_features[labels == label, 1], \n",
    "                c=colors[i], label=stage_labels[i])  # 수정된 부분: colors(i) -> colors[i]\n",
    "plt.title('PCA Visualization')\n",
    "plt.legend()\n",
    "\n",
    "plt.show()"
   ]
  }
 ],
 "metadata": {
  "kernelspec": {
   "display_name": "Python 3",
   "language": "python",
   "name": "python3"
  }
 },
 "nbformat": 4,
 "nbformat_minor": 5
}
